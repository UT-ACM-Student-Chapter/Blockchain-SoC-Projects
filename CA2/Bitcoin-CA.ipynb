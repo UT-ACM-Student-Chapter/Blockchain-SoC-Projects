{
 "cells": [
  {
   "cell_type": "markdown",
   "metadata": {},
   "source": [
    "# <center>CryptoCurrencies CA#2<center>\n",
    "<h1><center>Interaction with Bitcoin<center></h1>\n",
    "\n",
    "#### <center>\"Name - Family name\"<center>"
   ]
  },
  {
   "cell_type": "markdown",
   "metadata": {},
   "source": [
    "## StoryLine:\n",
    "After mastering the fundomentals of cryptography during his adventures, TinTin's insatiable curiosity led him down a new path: the world of cryptocurrencies.\n",
    "\n",
    "Fascinated by the potential of digital currencies like Bitcoin, he delved deeper into the intricate world of blockchain technology."
   ]
  },
  {
   "cell_type": "markdown",
   "metadata": {},
   "source": [
    "## Part 1: Generating an address\n",
    "\n"
   ]
  },
  {
   "cell_type": "markdown",
   "metadata": {},
   "source": [
    "TinTin knows he has to generate a secure Bitcoin address using his newfound cryptographic skills to start his crypto journey. Help him to generate a Bitcoin address, ensuring his digital assets would remain safe as he continues to explore this brave new financial frontier.\n",
    "\n",
    "TinTin wants to examine his newly generated Bitcoin address in the <strong>Testnet network</strong> before diving into the Mainnet network. The output should be a Bitcoin testnet address in base58 and its corresponding private key in WIF. You can use any cryptographic, random generator and base convert libraries <strong>except Bitcoin address generator libraries</strong>."
   ]
  },
  {
   "cell_type": "code",
   "execution_count": null,
   "metadata": {},
   "outputs": [],
   "source": [
    "def generate_address():\n",
    "    # Write a program to generate a bitcoin address for testnet network\n",
    "    # CODE HERE:\n",
    "    \n",
    "    \n",
    "    \n",
    "    \n",
    "    return address,private_key_WIF"
   ]
  },
  {
   "cell_type": "markdown",
   "metadata": {},
   "source": [
    "## Part 2: Simple transfer"
   ]
  },
  {
   "cell_type": "markdown",
   "metadata": {},
   "source": [
    "With his newly generated Bitcoin address in hand, Tintin's curiosity led him to explore the world of Bitcoin transactions. He want to initiate a simple 1-to-2 transfer, with one of the outputs directed to his friend Haddock and the other potentially serving as his own change address, which could be the same as the input address.\n",
    "\n",
    "Help him to generate this transaction using <strong>python-bitcoinlib</strong> library. You can receive Bitcoin testnet funds freely from faucets (Search in Google for Bitcoin testnet faucets). Then create a transaction with one input (which you received from the faucet) and divide it into two outputs One of them is for Haddock and the other one is for returned cash to TinTin which can be the same as input. Use your address generator as much as you need. The outputs should be P2PKH. The transaction should be transmitted to testnet P2P network and should be visible and verified in blockchain explorers (Search in Google for Bitcoin testnet explorers)"
   ]
  },
  {
   "cell_type": "code",
   "execution_count": null,
   "metadata": {},
   "outputs": [],
   "source": [
    "import bitcoin.wallet\n",
    "import bitcoin.core\n",
    "from bitcoin.core import COIN, b2lx, serialize, x, lx, b2x\n",
    "from utils import *\n",
    "import requests\n",
    "\n",
    "bitcoin.SelectParams(\"testnet\")  # Select the network (testnet or mainnet)\n",
    "my_private_key = bitcoin.wallet.CBitcoinSecret(\"YOUR PRIVATE KEY IN WIF FORM\")  # Private key in WIF format XXXXXXXXXXXXXXXXXXXXXXXXXXXXXXXXXXXXXXXXXXXXXXXXXXX\n",
    "my_public_key = my_private_key.pub\n",
    "my_address = bitcoin.wallet.P2PKHBitcoinAddress.from_pubkey(my_public_key)\n",
    "my_public_key_hash = my_address.to_bytes()\n",
    "destination_address_1 = bitcoin.wallet.CBitcoinAddress('DESTINATION ADDRESS 1')  # Destination address 1 (recipient of the money)\n",
    "destination_address_2 = bitcoin.wallet.CBitcoinAddress('DESTINATION ADDRESS 2')  # Destination address 2 (recipient of the money)\n",
    "\n",
    "\n",
    "print(my_address)  # Prints your address in base58\n",
    "print(my_public_key.hex())  # Print your public key in hex\n",
    "print(my_private_key.hex())  # Print your private key in hex\n",
    "\n",
    "# Create one input\n",
    "prev_txid = 'PREVIOUS TXID TO BE SPEND AS INPUT'  # Replace with the previous transaction ID\n",
    "prev_out_index = 0  # Replace with the output index of the previous transaction\n",
    "txin = CMutableTxIn(COutPoint(lx(prev_txid), prev_out_index))\n",
    "\n",
    "# Create custom scripts for the two outputs\n",
    "receiver1_script = CScript([OP_DUP, ...]) # Fill the with proper scripts and hex data (like public key or public key hash)\n",
    "receiver2_script = CScript([OP_DUP, ...]) # Fill the with proper scripts and hex data (like public key or public key hash)\n",
    "\n",
    "# Create two outputs\n",
    "receiver1_value = 0  # Amount in satoshis\n",
    "receiver2_value = 0  # Amount in satoshis\n",
    "txout1 = CMutableTxOut(receiver1_value, receiver1_script)\n",
    "txout2 = CMutableTxOut(receiver2_value, receiver2_script)\n",
    "\n",
    "# Create the transaction (1 to 2)\n",
    "tx = CMutableTransaction([txin], [txout1, txout2])\n",
    "\n",
    "# Sign the transaction input\n",
    "sighash = SignatureHash(my_address.to_scriptPubKey(), tx, 0, SIGHASH_ALL)\n",
    "\n",
    "signature = my_private_key.sign(sighash) + bytes([SIGHASH_ALL])\n",
    "txin.scriptSig = CScript([signature, my_public_key])\n",
    "\n",
    "# Verify the transaction before broadcasting (optional but recommended)\n",
    "if VerifyScript(txin.scriptSig, my_address.to_scriptPubKey(), tx, 0, (SCRIPT_VERIFY_P2SH,)):\n",
    "    raise ValueError(\"Script verification failed\")\n",
    "\n",
    "# Serialize the transaction\n",
    "serialized_tx = tx.serialize().hex()\n",
    "print(serialized_tx)\n",
    "print(requests.post(\"https://api.blockcypher.com/v1/btc/test3/txs/push\",json={\"tx\":serialized_tx}).json())"
   ]
  },
  {
   "cell_type": "markdown",
   "metadata": {},
   "source": [
    "## Part 3: Multisig Transfer"
   ]
  },
  {
   "cell_type": "markdown",
   "metadata": {},
   "source": [
    "Recognizing the importance of enhanced security and shared control over their Bitcoin assets, TinTin and Haddock made a deliberate choice to create a multisig (multisignature) account. With this setup, any transfer or transaction would require both of their unique signatures, thereby establishing a robust system where neither party could unilaterally access or utilize the funds. This approach not only bolstered their confidence in the security of their digital assets but also reinforced their commitment to a collaborative financial partnership, where decisions about Bitcoin holdings would always be made jointly, ensuring trust and accountability in their crypto journey."
   ]
  },
  {
   "cell_type": "markdown",
   "metadata": {},
   "source": [
    "By using the codes in the previous sections, create a 1-to-1 transaction, that it's only output is a P2MS (MultiSig) and contains the public key of both TinTin and Haddock. In another transaction, redeem this output and sign it with the signature of both TinTin and Haddock, and transfer it to a simple address (P2PKH). "
   ]
  }
 ],
 "metadata": {
  "kernelspec": {
   "display_name": "Python 3",
   "language": "python",
   "name": "python3"
  },
  "language_info": {
   "codemirror_mode": {
    "name": "ipython",
    "version": 3
   },
   "file_extension": ".py",
   "mimetype": "text/x-python",
   "name": "python",
   "nbconvert_exporter": "python",
   "pygments_lexer": "ipython3",
   "version": "3.10.12"
  },
  "orig_nbformat": 4
 },
 "nbformat": 4,
 "nbformat_minor": 2
}
